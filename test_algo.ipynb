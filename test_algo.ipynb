{
 "cells": [
  {
   "cell_type": "code",
   "execution_count": 50,
   "metadata": {},
   "outputs": [],
   "source": [
    "import numpy as np\n",
    "import pandas as pd\n",
    "import sklearn\n",
    "import pymysql\n",
    "import datetime\n",
    "import timedelta\n",
    "import operator\n",
    "import pyfpgrowth"
   ]
  },
  {
   "cell_type": "code",
   "execution_count": 51,
   "metadata": {},
   "outputs": [],
   "source": [
    "db = pymysql.connect(host='localhost',user='root',passwd='',database='genius')\n",
    "cursor = db.cursor()"
   ]
  },
  {
   "cell_type": "code",
   "execution_count": 52,
   "metadata": {},
   "outputs": [],
   "source": [
    "query=(\"select *from user_goal_data\")\n",
    "df = pd.read_sql_query(query,db)\n",
    "df1=df.copy()"
   ]
  },
  {
   "cell_type": "code",
   "execution_count": 53,
   "metadata": {},
   "outputs": [
    {
     "name": "stdout",
     "output_type": "stream",
     "text": [
      "<class 'pandas.core.frame.DataFrame'>\n",
      "RangeIndex: 71 entries, 0 to 70\n",
      "Data columns (total 9 columns):\n",
      "id             71 non-null int64\n",
      "user_id        71 non-null object\n",
      "goal_cat_id    71 non-null int64\n",
      "goal_id        71 non-null int64\n",
      "start_date     71 non-null datetime64[ns]\n",
      "end_date       71 non-null datetime64[ns]\n",
      "status         71 non-null int64\n",
      "created_on     71 non-null datetime64[ns]\n",
      "days           71 non-null float64\n",
      "dtypes: datetime64[ns](3), float64(1), int64(4), object(1)\n",
      "memory usage: 5.1+ KB\n"
     ]
    },
    {
     "name": "stderr",
     "output_type": "stream",
     "text": [
      "/home/jainish/anaconda3/lib/python3.7/site-packages/ipykernel_launcher.py:33: SettingWithCopyWarning: \n",
      "A value is trying to be set on a copy of a slice from a DataFrame\n",
      "\n",
      "See the caveats in the documentation: http://pandas.pydata.org/pandas-docs/stable/user_guide/indexing.html#returning-a-view-versus-a-copy\n"
     ]
    }
   ],
   "source": [
    "nan =float(\"NaN\")\n",
    "nanstr=\"NaN\"\n",
    "# df1['s_year']=nan\n",
    "# df1['s_month']=nan\n",
    "# df1['s_date']=nan\n",
    "# df1['e_year']=nan\n",
    "# df1['e_month']=nan\n",
    "# df1['e_date']=nan\n",
    "df1['days']=nan\n",
    "#df1['imp_days']=nan\n",
    "x=int(df1.user_id.count())\n",
    "i=0\n",
    "j=0\n",
    "# for i in range(x):\n",
    "#     df1['s_year'][i]=int(str(df1['start_date'][i][0:4]))\n",
    "#     df1['s_month'][i]=int(str(df1['start_date'][i][5:7]))\n",
    "#     df1['s_date'][i]=int(str(df1['start_date'][i][8:]))\n",
    "#     i=i+1\n",
    "   \n",
    "    \n",
    "# for j in range(x):\n",
    "#     df1['e_year'][j]=int(df1['end_date'][j][0:4])\n",
    "#     df1['e_month'][j]=int(df1['end_date'][j][5:7])\n",
    "#     df1['e_date'][j]=int(df1['end_date'][j][8:])\n",
    "#     j=j+1\n",
    "    \n",
    "\n",
    "for k in range(x):\n",
    "    start_date=datetime.date(int(df1['start_date'][k][0:4]),int(df1['start_date'][k][5:7]),int(df1['start_date'][k][8:]))\n",
    "    end_date=datetime.date(int(df1['end_date'][k][0:4]),int(df1['end_date'][k][5:7]),int(df1['end_date'][k][8:])) \n",
    "    diff=end_date-start_date\n",
    "    diff+= datetime.timedelta(days=(1))\n",
    "    df1['days'][k]=diff.days\n",
    "    #df1['imp_days'][k]=int(df1['imp'][k])*int(df1['days'][k])\n",
    "    k=k+1\n",
    "df1['start_date']=pd.to_datetime(df1['start_date'])\n",
    "df1['end_date']=pd.to_datetime(df1['end_date'])   \n",
    "df1\n",
    "df1.info()"
   ]
  },
  {
   "cell_type": "code",
   "execution_count": 54,
   "metadata": {},
   "outputs": [],
   "source": [
    "# s=list(df1.goal_id.unique())\n",
    "# s.sort()\n",
    "# s"
   ]
  },
  {
   "cell_type": "code",
   "execution_count": 55,
   "metadata": {},
   "outputs": [
    {
     "name": "stdout",
     "output_type": "stream",
     "text": [
      "    id user_id  goal_cat_id  goal_id start_date   end_date  status  \\\n",
      "6   26   user1            5       26 2020-01-02 2020-01-31       0   \n",
      "7   27   user1            5       27 2020-01-03 2020-01-24       1   \n",
      "11  31   user2            5       28 2020-01-02 2020-01-31       2   \n",
      "12  32   user2            5       29 2020-01-03 2020-01-24       1   \n",
      "25  45   user6            5       30 2020-01-02 2020-01-31       0   \n",
      "26  46   user6            5       30 2020-01-03 2020-01-24       2   \n",
      "\n",
      "            created_on  days  \n",
      "6  2020-01-02 11:28:25  30.0  \n",
      "7  2020-01-03 05:20:55  22.0  \n",
      "11 2020-01-02 11:28:25  30.0  \n",
      "12 2020-01-03 05:20:55  22.0  \n",
      "25 2020-01-02 11:28:25  30.0  \n",
      "26 2020-01-03 05:20:55  22.0  \n",
      "\n",
      "\n",
      "<class 'pandas.core.frame.DataFrame'>\n",
      "RangeIndex: 156 entries, 0 to 155\n",
      "Data columns (total 6 columns):\n",
      "df_goal_id      156 non-null int64\n",
      "df_user_id      156 non-null object\n",
      "df_date         156 non-null datetime64[ns]\n",
      "df_days         156 non-null float64\n",
      "df_diff_date    156 non-null datetime64[ns]\n",
      "df_status       156 non-null int64\n",
      "dtypes: datetime64[ns](2), float64(1), int64(2), object(1)\n",
      "memory usage: 7.4+ KB\n"
     ]
    }
   ],
   "source": [
    "#mask = '''(df1['start_date'] > s_date) & (df1['end_date'] <= e_date ) &''' (df1['goal_cat_id']==2)# & (df1.user_id==inp_user)\n",
    "#print(mask)\n",
    "\n",
    "mask=df1['goal_cat_id']==5\n",
    "df2 = df1.loc[mask] \n",
    "print(df2)\n",
    "print(\"\\n\")\n",
    "    \n",
    "    \n",
    "    \n",
    "# x=int(df2.user_id.count())\n",
    "# print(x)\n",
    "#print(\"\\n\")\n",
    "    # df3['goal_id']=nan\n",
    "    # df3['user_id']=nanstr\n",
    "    # df3['date']=nanstr\n",
    "k=0\n",
    "i=0\n",
    "j=0\n",
    "goal_id=list(df2['goal_id'])\n",
    "user_id=list(df2['user_id'])\n",
    "date=list(df2['start_date'])\n",
    "days=list(df2['days'])\n",
    "status=list(df2['status'])\n",
    "    # print(goal_id)\n",
    "    # print(user_id[0])\n",
    "    # print(date)\n",
    "    # print(imp)\n",
    "    # print(imp_days)\n",
    "    # print(df3.info())\n",
    "\n",
    "df_goal_id=[]\n",
    "df_user_id=[]\n",
    "df_date=[]\n",
    "df_days=[]\n",
    "df_diff_date=[]\n",
    "df_status=[]\n",
    "for i in range(len(user_id)):\n",
    "    l = int(days[i])\n",
    "    for j in range(l):\n",
    "        df_goal_id.append(goal_id[i])\n",
    "        df_user_id.append(user_id[i])\n",
    "        df_date.append(date[i])\n",
    "        df_days.append(days[i])\n",
    "        date1=date[i]\n",
    "        date1+= datetime.timedelta(days=(j))\n",
    "        df_diff_date.append(date1)\n",
    "        df_status.append(status[i])\n",
    "    #         print(j)\n",
    "        j=j+1\n",
    "        k=k+1\n",
    "    i=i+1\n",
    "    # print(df_diff_date)\n",
    "\n",
    "df3 = pd.DataFrame(list(zip(df_goal_id,df_user_id,df_date,df_days,df_diff_date,df_status)) ,columns=['df_goal_id','df_user_id','df_date','df_days','df_diff_date','df_status'])    \n",
    "df3.info()\n",
    "    "
   ]
  },
  {
   "cell_type": "code",
   "execution_count": 56,
   "metadata": {},
   "outputs": [
    {
     "data": {
      "text/html": [
       "<div>\n",
       "<style scoped>\n",
       "    .dataframe tbody tr th:only-of-type {\n",
       "        vertical-align: middle;\n",
       "    }\n",
       "\n",
       "    .dataframe tbody tr th {\n",
       "        vertical-align: top;\n",
       "    }\n",
       "\n",
       "    .dataframe thead th {\n",
       "        text-align: right;\n",
       "    }\n",
       "</style>\n",
       "<table border=\"1\" class=\"dataframe\">\n",
       "  <thead>\n",
       "    <tr style=\"text-align: right;\">\n",
       "      <th></th>\n",
       "      <th>goals</th>\n",
       "    </tr>\n",
       "    <tr>\n",
       "      <th>df_diff_date</th>\n",
       "      <th></th>\n",
       "    </tr>\n",
       "  </thead>\n",
       "  <tbody>\n",
       "    <tr>\n",
       "      <td>2020-01-02</td>\n",
       "      <td>[26, 28, 30]</td>\n",
       "    </tr>\n",
       "    <tr>\n",
       "      <td>2020-01-03</td>\n",
       "      <td>[26, 27, 28, 29, 30]</td>\n",
       "    </tr>\n",
       "    <tr>\n",
       "      <td>2020-01-04</td>\n",
       "      <td>[26, 27, 28, 29, 30]</td>\n",
       "    </tr>\n",
       "    <tr>\n",
       "      <td>2020-01-05</td>\n",
       "      <td>[26, 27, 28, 29, 30]</td>\n",
       "    </tr>\n",
       "    <tr>\n",
       "      <td>2020-01-06</td>\n",
       "      <td>[26, 27, 28, 29, 30]</td>\n",
       "    </tr>\n",
       "    <tr>\n",
       "      <td>2020-01-07</td>\n",
       "      <td>[26, 27, 28, 29, 30]</td>\n",
       "    </tr>\n",
       "    <tr>\n",
       "      <td>2020-01-08</td>\n",
       "      <td>[26, 27, 28, 29, 30]</td>\n",
       "    </tr>\n",
       "    <tr>\n",
       "      <td>2020-01-09</td>\n",
       "      <td>[26, 27, 28, 29, 30]</td>\n",
       "    </tr>\n",
       "    <tr>\n",
       "      <td>2020-01-10</td>\n",
       "      <td>[26, 27, 28, 29, 30]</td>\n",
       "    </tr>\n",
       "    <tr>\n",
       "      <td>2020-01-11</td>\n",
       "      <td>[26, 27, 28, 29, 30]</td>\n",
       "    </tr>\n",
       "    <tr>\n",
       "      <td>2020-01-12</td>\n",
       "      <td>[26, 27, 28, 29, 30]</td>\n",
       "    </tr>\n",
       "    <tr>\n",
       "      <td>2020-01-13</td>\n",
       "      <td>[26, 27, 28, 29, 30]</td>\n",
       "    </tr>\n",
       "    <tr>\n",
       "      <td>2020-01-14</td>\n",
       "      <td>[26, 27, 28, 29, 30]</td>\n",
       "    </tr>\n",
       "    <tr>\n",
       "      <td>2020-01-15</td>\n",
       "      <td>[26, 27, 28, 29, 30]</td>\n",
       "    </tr>\n",
       "    <tr>\n",
       "      <td>2020-01-16</td>\n",
       "      <td>[26, 27, 28, 29, 30]</td>\n",
       "    </tr>\n",
       "    <tr>\n",
       "      <td>2020-01-17</td>\n",
       "      <td>[26, 27, 28, 29, 30]</td>\n",
       "    </tr>\n",
       "    <tr>\n",
       "      <td>2020-01-18</td>\n",
       "      <td>[26, 27, 28, 29, 30]</td>\n",
       "    </tr>\n",
       "    <tr>\n",
       "      <td>2020-01-19</td>\n",
       "      <td>[26, 27, 28, 29, 30]</td>\n",
       "    </tr>\n",
       "    <tr>\n",
       "      <td>2020-01-20</td>\n",
       "      <td>[26, 27, 28, 29, 30]</td>\n",
       "    </tr>\n",
       "    <tr>\n",
       "      <td>2020-01-21</td>\n",
       "      <td>[26, 27, 28, 29, 30]</td>\n",
       "    </tr>\n",
       "    <tr>\n",
       "      <td>2020-01-22</td>\n",
       "      <td>[26, 27, 28, 29, 30]</td>\n",
       "    </tr>\n",
       "    <tr>\n",
       "      <td>2020-01-23</td>\n",
       "      <td>[26, 27, 28, 29, 30]</td>\n",
       "    </tr>\n",
       "    <tr>\n",
       "      <td>2020-01-24</td>\n",
       "      <td>[26, 27, 28, 29, 30]</td>\n",
       "    </tr>\n",
       "    <tr>\n",
       "      <td>2020-01-25</td>\n",
       "      <td>[26, 28, 30]</td>\n",
       "    </tr>\n",
       "    <tr>\n",
       "      <td>2020-01-26</td>\n",
       "      <td>[26, 28, 30]</td>\n",
       "    </tr>\n",
       "    <tr>\n",
       "      <td>2020-01-27</td>\n",
       "      <td>[26, 28, 30]</td>\n",
       "    </tr>\n",
       "    <tr>\n",
       "      <td>2020-01-28</td>\n",
       "      <td>[26, 28, 30]</td>\n",
       "    </tr>\n",
       "    <tr>\n",
       "      <td>2020-01-29</td>\n",
       "      <td>[26, 28, 30]</td>\n",
       "    </tr>\n",
       "    <tr>\n",
       "      <td>2020-01-30</td>\n",
       "      <td>[26, 28, 30]</td>\n",
       "    </tr>\n",
       "    <tr>\n",
       "      <td>2020-01-31</td>\n",
       "      <td>[26, 28, 30]</td>\n",
       "    </tr>\n",
       "  </tbody>\n",
       "</table>\n",
       "</div>"
      ],
      "text/plain": [
       "                             goals\n",
       "df_diff_date                      \n",
       "2020-01-02            [26, 28, 30]\n",
       "2020-01-03    [26, 27, 28, 29, 30]\n",
       "2020-01-04    [26, 27, 28, 29, 30]\n",
       "2020-01-05    [26, 27, 28, 29, 30]\n",
       "2020-01-06    [26, 27, 28, 29, 30]\n",
       "2020-01-07    [26, 27, 28, 29, 30]\n",
       "2020-01-08    [26, 27, 28, 29, 30]\n",
       "2020-01-09    [26, 27, 28, 29, 30]\n",
       "2020-01-10    [26, 27, 28, 29, 30]\n",
       "2020-01-11    [26, 27, 28, 29, 30]\n",
       "2020-01-12    [26, 27, 28, 29, 30]\n",
       "2020-01-13    [26, 27, 28, 29, 30]\n",
       "2020-01-14    [26, 27, 28, 29, 30]\n",
       "2020-01-15    [26, 27, 28, 29, 30]\n",
       "2020-01-16    [26, 27, 28, 29, 30]\n",
       "2020-01-17    [26, 27, 28, 29, 30]\n",
       "2020-01-18    [26, 27, 28, 29, 30]\n",
       "2020-01-19    [26, 27, 28, 29, 30]\n",
       "2020-01-20    [26, 27, 28, 29, 30]\n",
       "2020-01-21    [26, 27, 28, 29, 30]\n",
       "2020-01-22    [26, 27, 28, 29, 30]\n",
       "2020-01-23    [26, 27, 28, 29, 30]\n",
       "2020-01-24    [26, 27, 28, 29, 30]\n",
       "2020-01-25            [26, 28, 30]\n",
       "2020-01-26            [26, 28, 30]\n",
       "2020-01-27            [26, 28, 30]\n",
       "2020-01-28            [26, 28, 30]\n",
       "2020-01-29            [26, 28, 30]\n",
       "2020-01-30            [26, 28, 30]\n",
       "2020-01-31            [26, 28, 30]"
      ]
     },
     "execution_count": 56,
     "metadata": {},
     "output_type": "execute_result"
    }
   ],
   "source": [
    "f_df=pd.DataFrame()\n",
    "f_df['goals']=df3.groupby('df_diff_date')['df_goal_id'].unique()\n",
    "f_df\n"
   ]
  },
  {
   "cell_type": "code",
   "execution_count": 57,
   "metadata": {},
   "outputs": [
    {
     "data": {
      "text/plain": [
       "[[26, 28, 30],\n",
       " [26, 27, 28, 29, 30],\n",
       " [26, 27, 28, 29, 30],\n",
       " [26, 27, 28, 29, 30],\n",
       " [26, 27, 28, 29, 30],\n",
       " [26, 27, 28, 29, 30],\n",
       " [26, 27, 28, 29, 30],\n",
       " [26, 27, 28, 29, 30],\n",
       " [26, 27, 28, 29, 30],\n",
       " [26, 27, 28, 29, 30],\n",
       " [26, 27, 28, 29, 30],\n",
       " [26, 27, 28, 29, 30],\n",
       " [26, 27, 28, 29, 30],\n",
       " [26, 27, 28, 29, 30],\n",
       " [26, 27, 28, 29, 30],\n",
       " [26, 27, 28, 29, 30],\n",
       " [26, 27, 28, 29, 30],\n",
       " [26, 27, 28, 29, 30],\n",
       " [26, 27, 28, 29, 30],\n",
       " [26, 27, 28, 29, 30],\n",
       " [26, 27, 28, 29, 30],\n",
       " [26, 27, 28, 29, 30],\n",
       " [26, 27, 28, 29, 30],\n",
       " [26, 28, 30],\n",
       " [26, 28, 30],\n",
       " [26, 28, 30],\n",
       " [26, 28, 30],\n",
       " [26, 28, 30],\n",
       " [26, 28, 30],\n",
       " [26, 28, 30]]"
      ]
     },
     "execution_count": 57,
     "metadata": {},
     "output_type": "execute_result"
    }
   ],
   "source": [
    "transactions = []\n",
    "for sublist in f_df.goals.tolist():\n",
    "    clean_sublist = [item for item in sublist if item is not np.nan]\n",
    "    transactions.append(clean_sublist)\n",
    "transactions"
   ]
  },
  {
   "cell_type": "code",
   "execution_count": null,
   "metadata": {},
   "outputs": [],
   "source": []
  },
  {
   "cell_type": "code",
   "execution_count": null,
   "metadata": {},
   "outputs": [],
   "source": []
  },
  {
   "cell_type": "code",
   "execution_count": null,
   "metadata": {},
   "outputs": [],
   "source": [
    "\n"
   ]
  },
  {
   "cell_type": "code",
   "execution_count": 58,
   "metadata": {},
   "outputs": [],
   "source": [
    "patterns = pyfpgrowth.find_frequent_patterns(transactions,2)"
   ]
  },
  {
   "cell_type": "code",
   "execution_count": 59,
   "metadata": {},
   "outputs": [
    {
     "data": {
      "text/plain": [
       "{(26,): 30,\n",
       " (28,): 30,\n",
       " (30,): 30,\n",
       " (27,): 22,\n",
       " (29,): 22,\n",
       " (26, 28): 30,\n",
       " (26, 30): 30,\n",
       " (26, 27): 22,\n",
       " (26, 29): 22,\n",
       " (28, 30): 30,\n",
       " (27, 28): 22,\n",
       " (28, 29): 22,\n",
       " (27, 30): 22,\n",
       " (29, 30): 22,\n",
       " (27, 29): 22,\n",
       " (26, 28, 30): 30,\n",
       " (26, 27, 28): 22,\n",
       " (26, 28, 29): 22,\n",
       " (26, 27, 30): 22,\n",
       " (26, 29, 30): 22,\n",
       " (26, 27, 29): 22,\n",
       " (27, 28, 30): 22,\n",
       " (28, 29, 30): 22,\n",
       " (27, 28, 29): 22,\n",
       " (27, 29, 30): 22,\n",
       " (26, 27, 28, 30): 22,\n",
       " (26, 28, 29, 30): 22,\n",
       " (26, 27, 28, 29): 22,\n",
       " (26, 27, 29, 30): 22,\n",
       " (27, 28, 29, 30): 22,\n",
       " (26, 27, 28, 29, 30): 22}"
      ]
     },
     "execution_count": 59,
     "metadata": {},
     "output_type": "execute_result"
    }
   ],
   "source": [
    "patterns"
   ]
  },
  {
   "cell_type": "code",
   "execution_count": 60,
   "metadata": {},
   "outputs": [
    {
     "data": {
      "text/plain": [
       "{(26,): 30,\n",
       " (28,): 30,\n",
       " (30,): 30,\n",
       " (26, 28): 30,\n",
       " (26, 30): 30,\n",
       " (28, 30): 30,\n",
       " (26, 28, 30): 30,\n",
       " (27,): 22,\n",
       " (29,): 22,\n",
       " (26, 27): 22,\n",
       " (26, 29): 22,\n",
       " (27, 28): 22,\n",
       " (28, 29): 22,\n",
       " (27, 30): 22,\n",
       " (29, 30): 22,\n",
       " (27, 29): 22,\n",
       " (26, 27, 28): 22,\n",
       " (26, 28, 29): 22,\n",
       " (26, 27, 30): 22,\n",
       " (26, 29, 30): 22,\n",
       " (26, 27, 29): 22,\n",
       " (27, 28, 30): 22,\n",
       " (28, 29, 30): 22,\n",
       " (27, 28, 29): 22,\n",
       " (27, 29, 30): 22,\n",
       " (26, 27, 28, 30): 22,\n",
       " (26, 28, 29, 30): 22,\n",
       " (26, 27, 28, 29): 22,\n",
       " (26, 27, 29, 30): 22,\n",
       " (27, 28, 29, 30): 22,\n",
       " (26, 27, 28, 29, 30): 22}"
      ]
     },
     "execution_count": 60,
     "metadata": {},
     "output_type": "execute_result"
    }
   ],
   "source": [
    "s = dict( sorted(patterns.items(), key=operator.itemgetter(1),reverse=True))\n",
    "s"
   ]
  },
  {
   "cell_type": "code",
   "execution_count": 61,
   "metadata": {},
   "outputs": [
    {
     "data": {
      "text/plain": [
       "[(26,),\n",
       " (28,),\n",
       " (30,),\n",
       " (26, 28),\n",
       " (26, 30),\n",
       " (28, 30),\n",
       " (26, 28, 30),\n",
       " (27,),\n",
       " (29,),\n",
       " (26, 27)]"
      ]
     },
     "execution_count": 61,
     "metadata": {},
     "output_type": "execute_result"
    }
   ],
   "source": [
    "\n",
    "s1=list(s.keys())\n",
    "s2=s1[:10]\n",
    "s2"
   ]
  },
  {
   "cell_type": "code",
   "execution_count": 62,
   "metadata": {},
   "outputs": [],
   "source": [
    "rules = pyfpgrowth.generate_association_rules(patterns,0)\n"
   ]
  },
  {
   "cell_type": "code",
   "execution_count": 63,
   "metadata": {},
   "outputs": [
    {
     "data": {
      "text/plain": [
       "{(26,): ((27, 28, 29, 30), 0.7333333333333333),\n",
       " (28,): ((26, 27, 29, 30), 0.7333333333333333),\n",
       " (30,): ((26, 27, 28, 29), 0.7333333333333333),\n",
       " (27,): ((26, 28, 29, 30), 1.0),\n",
       " (29,): ((26, 27, 28, 30), 1.0),\n",
       " (26, 28): ((27, 29, 30), 0.7333333333333333),\n",
       " (26, 30): ((27, 28, 29), 0.7333333333333333),\n",
       " (28, 30): ((26, 27, 29), 0.7333333333333333),\n",
       " (26, 27): ((28, 29, 30), 1.0),\n",
       " (27, 28): ((26, 29, 30), 1.0),\n",
       " (26, 29): ((27, 28, 30), 1.0),\n",
       " (28, 29): ((26, 27, 30), 1.0),\n",
       " (27, 30): ((26, 28, 29), 1.0),\n",
       " (29, 30): ((26, 27, 28), 1.0),\n",
       " (27, 29): ((26, 28, 30), 1.0),\n",
       " (26, 27, 28): ((29, 30), 1.0),\n",
       " (26, 27, 30): ((28, 29), 1.0),\n",
       " (26, 28, 30): ((27, 29), 0.7333333333333333),\n",
       " (27, 28, 30): ((26, 29), 1.0),\n",
       " (26, 28, 29): ((27, 30), 1.0),\n",
       " (26, 29, 30): ((27, 28), 1.0),\n",
       " (28, 29, 30): ((26, 27), 1.0),\n",
       " (26, 27, 29): ((28, 30), 1.0),\n",
       " (27, 28, 29): ((26, 30), 1.0),\n",
       " (27, 29, 30): ((26, 28), 1.0),\n",
       " (26, 27, 28, 29): ((30,), 1.0),\n",
       " (26, 27, 28, 30): ((29,), 1.0),\n",
       " (26, 27, 29, 30): ((28,), 1.0),\n",
       " (26, 28, 29, 30): ((27,), 1.0),\n",
       " (27, 28, 29, 30): ((26,), 1.0)}"
      ]
     },
     "execution_count": 63,
     "metadata": {},
     "output_type": "execute_result"
    }
   ],
   "source": [
    "rules"
   ]
  },
  {
   "cell_type": "code",
   "execution_count": null,
   "metadata": {},
   "outputs": [],
   "source": []
  },
  {
   "cell_type": "code",
   "execution_count": null,
   "metadata": {
    "scrolled": true
   },
   "outputs": [],
   "source": []
  },
  {
   "cell_type": "code",
   "execution_count": null,
   "metadata": {},
   "outputs": [],
   "source": []
  },
  {
   "cell_type": "code",
   "execution_count": null,
   "metadata": {},
   "outputs": [],
   "source": []
  },
  {
   "cell_type": "code",
   "execution_count": null,
   "metadata": {},
   "outputs": [],
   "source": []
  },
  {
   "cell_type": "code",
   "execution_count": null,
   "metadata": {},
   "outputs": [],
   "source": []
  },
  {
   "cell_type": "code",
   "execution_count": null,
   "metadata": {},
   "outputs": [],
   "source": []
  },
  {
   "cell_type": "code",
   "execution_count": null,
   "metadata": {},
   "outputs": [],
   "source": []
  },
  {
   "cell_type": "code",
   "execution_count": null,
   "metadata": {},
   "outputs": [],
   "source": []
  },
  {
   "cell_type": "code",
   "execution_count": null,
   "metadata": {},
   "outputs": [],
   "source": []
  },
  {
   "cell_type": "code",
   "execution_count": null,
   "metadata": {},
   "outputs": [],
   "source": []
  },
  {
   "cell_type": "code",
   "execution_count": null,
   "metadata": {},
   "outputs": [],
   "source": []
  },
  {
   "cell_type": "code",
   "execution_count": null,
   "metadata": {},
   "outputs": [],
   "source": []
  },
  {
   "cell_type": "code",
   "execution_count": null,
   "metadata": {},
   "outputs": [],
   "source": []
  },
  {
   "cell_type": "code",
   "execution_count": null,
   "metadata": {},
   "outputs": [],
   "source": []
  },
  {
   "cell_type": "code",
   "execution_count": null,
   "metadata": {},
   "outputs": [],
   "source": [
    "\n"
   ]
  },
  {
   "cell_type": "code",
   "execution_count": null,
   "metadata": {},
   "outputs": [],
   "source": []
  },
  {
   "cell_type": "code",
   "execution_count": null,
   "metadata": {},
   "outputs": [],
   "source": []
  },
  {
   "cell_type": "code",
   "execution_count": null,
   "metadata": {},
   "outputs": [],
   "source": []
  }
 ],
 "metadata": {
  "kernelspec": {
   "display_name": "Python 3",
   "language": "python",
   "name": "python3"
  },
  "language_info": {
   "codemirror_mode": {
    "name": "ipython",
    "version": 3
   },
   "file_extension": ".py",
   "mimetype": "text/x-python",
   "name": "python",
   "nbconvert_exporter": "python",
   "pygments_lexer": "ipython3",
   "version": "3.7.4"
  }
 },
 "nbformat": 4,
 "nbformat_minor": 2
}
